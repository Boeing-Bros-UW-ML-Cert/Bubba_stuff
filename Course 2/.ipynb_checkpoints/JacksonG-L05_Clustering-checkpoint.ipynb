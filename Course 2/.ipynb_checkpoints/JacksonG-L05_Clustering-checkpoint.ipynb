{
 "cells": [
  {
   "cell_type": "markdown",
   "metadata": {},
   "source": [
    "_The main focus of this assignment is clustering from theoretical as well as practical perspective_"
   ]
  },
  {
   "cell_type": "markdown",
   "metadata": {},
   "source": [
    "## Problem 1: Clustering (Manually)"
   ]
  },
  {
   "cell_type": "markdown",
   "metadata": {},
   "source": [
    "For the following dataset, perform the clustering “by hand”:\n",
    "\n",
    "17 28 50 60 80 89 150 167 171 189 \n",
    "1. \tUse the K-means algorithm with K= 3 to cluster the data\n",
    "2. \tUse hierarchical agglomerative clustering with single linkage to cluster the data (start as one point per cluster - with minimum distance between two closest points)\n",
    "3. \tUse hierarchical agglomerative clustering with complete linkage to cluster the data (start as one point per cluster - with maximum distance between two farther points)\n",
    "4. \tFor K-means What will the final clusters be after 3 iterations if k=3 and the initial centers are 150, 171 and 189"
   ]
  },
  {
   "cell_type": "markdown",
   "metadata": {},
   "source": [
    "_Note: Do not write code to answer this question_"
   ]
  },
  {
   "cell_type": "markdown",
   "metadata": {},
   "source": [
    "### 1.\n",
    "#### Centers v1: \n",
    "A=50, B=125, C=200\n",
    "\n",
    "#### Assignments v1:\n",
    "\n",
    "A: 17, 28, 50, 60, 80\n",
    "\n",
    "B: 89, 150\n",
    "\n",
    "C: 167, 171, 189\n",
    "\n",
    "\n",
    "\n",
    "#### Centers v2: \n",
    "A=47, B=120, C=176\n",
    "\n",
    "#### Assignments v2:\n",
    "\n",
    "A: 17,28,50,60,80\n",
    "\n",
    "B: 89, 150\n",
    "\n",
    "C: 167, 171, 189\n",
    "\n",
    "\n",
    "\n",
    "#### Final cluster centers: \n",
    "A=47, B=120, C=176\n",
    "\n",
    "#### Final cluster assignments:\n",
    "\n",
    "A: 17,28,50,60,80\n",
    "\n",
    "B: 89, 150\n",
    "\n",
    "C: 167, 171, 189"
   ]
  },
  {
   "cell_type": "markdown",
   "metadata": {},
   "source": [
    "### 2.\n",
    "\n",
    "#### OG Data:\n",
    "17 28 50 60 80 89 150 167 171 189\n",
    "\n",
    "#### Clusters v1:\n",
    "17 28 50 60 80 89 150 167 171 189\n",
    "\n",
    "#### Clusters v2\n",
    "[17,28]  [50,60]  [80,89]  [150,167]  [171,189]\n",
    "\n",
    "#### Clusters v3\n",
    "Distance between closest points shown:\n",
    "\n",
    "[17,28] <-22-> [50,60] <-20-> [80,89] <-61-> [150,167] <-4-> [171,189]\n",
    "\n",
    "[17,28] [50,60,80,89] [150,167,171,189]\n",
    "\n",
    "#### Clusters v4:\n",
    "Distance between closest points shown:\n",
    "\n",
    "[17,28] <-22-> [50,60,80,89] <-61-> [150,167,171,189]\n",
    "\n",
    "[17,28,50,60,80,89] [150,167,171,189]\n",
    "\n",
    "#### Clusters v5:\n",
    "Distance between closest points shown:\n",
    "\n",
    "[17,28,50,60,80,89] <-61-> [150,167,171,189]\n",
    "\n",
    "[17,28,50,80,89,150,167,171,189]"
   ]
  },
  {
   "cell_type": "markdown",
   "metadata": {},
   "source": [
    "### 3.\n",
    "#### OG Data:\n",
    "17 28 50 60 80 89 150 167 171 189\n",
    "\n",
    "#### Clusters v1:\n",
    "17 28 50 60 80 89 150 167 171 189\n",
    "\n",
    "#### Clusters v2:\n",
    "[17,189] [28,171] [50,167] [60,150] [80,89]\n",
    "\n",
    "#### Clusters v3:\n",
    "[17,28,171,189] [80,89] [50,60,150,167]\n",
    "\n",
    "#### Clusters v4:\n",
    "[17,28,80,89,171,189] [50,60,150,167]\n",
    "\n",
    "#### Clusters v5:\n",
    "[17,28,50,60,80,89,150,167,171,189]"
   ]
  },
  {
   "cell_type": "markdown",
   "metadata": {},
   "source": [
    "### 4. For K-means What will the final clusters be after 3 iterations if k=3 and the initial centers are 150, 171 and 189\n",
    "\n",
    "#### OG Data:\n",
    "17 28 50 60 80 89 150 167 171 189\n",
    "\n",
    "#### Clusters v1:\n",
    "Centers: 150, 171, 189\n",
    "\n",
    "[17,28,50,60,80,89,150] [167,171] [189]\n",
    "\n",
    "#### Clusters v2:\n",
    "Centers: 68, 169, 189\n",
    "\n",
    "[17,28,50,60,80,89] [150,167,171] [189]\n",
    "\n",
    "#### Clusters v3:\n",
    "Centers: 54, 162, 189\n",
    "\n",
    "[17,28,50,60,80,89] [150,167,171] [189]"
   ]
  },
  {
   "cell_type": "markdown",
   "metadata": {},
   "source": [
    "## Problem 2: Clustering (Code)"
   ]
  },
  {
   "cell_type": "markdown",
   "metadata": {},
   "source": [
    "Use the dataset of accepted papers at the AAAI 2014 conference to find clusters of papers using K-Means."
   ]
  },
  {
   "cell_type": "code",
   "execution_count": 1,
   "metadata": {},
   "outputs": [
    {
     "name": "stdout",
     "output_type": "stream",
     "text": [
      "[nltk_data] Downloading package stopwords to /home/ccc_v1_w_Nzk1_10366\n",
      "[nltk_data]     1/asn40522_6/asn40523_1/work/nltk_data...\n",
      "[nltk_data]   Package stopwords is already up-to-date!\n"
     ]
    }
   ],
   "source": [
    "# Load the Relevant libraries\n",
    "import sklearn as sk\n",
    "import urllib\n",
    "import pandas as pd\n",
    "from nltk.corpus import stopwords\n",
    "import nltk\n",
    "nltk.download('stopwords')\n",
    "stop_words = stopwords.words('english')\n",
    "import string\n",
    "from nltk.stem import PorterStemmer\n",
    "from sklearn.feature_extraction.text import TfidfVectorizer\n",
    "from sklearn.cluster import KMeans\n",
    "%matplotlib inline\n",
    "import matplotlib.pyplot as plt\n",
    "import re\n",
    "\n",
    "from nltk.stem.snowball import SnowballStemmer\n",
    "stemmer = SnowballStemmer(\"english\")\n",
    "\n",
    "# URL for the AAAI (UW Repository)\n",
    "url = \"AAAI2014AcceptedPapers.csv\""
   ]
  },
  {
   "cell_type": "code",
   "execution_count": 2,
   "metadata": {
    "collapsed": true
   },
   "outputs": [],
   "source": [
    "df = pd.read_csv(url)"
   ]
  },
  {
   "cell_type": "markdown",
   "metadata": {},
   "source": [
    "### Do pre-processing to the text"
   ]
  },
  {
   "cell_type": "code",
   "execution_count": 3,
   "metadata": {
    "collapsed": true
   },
   "outputs": [],
   "source": [
    "# # We're going to use the abstract field to define papers\n",
    "\n",
    "# # remove special characters\n",
    "# df['cleaned'] = df['abstract'].apply(lambda x: x.translate(str.maketrans('','',string.punctuation)))\n",
    "\n",
    "# # turn to all lower-case\n",
    "# df['cleaned'] = df['cleaned'].apply(lambda x: str.lower(x))\n",
    "\n",
    "# # tokenize strings and remove stop-words\n",
    "# def token_remove_stop(x):\n",
    "#     t = nltk.word_tokenize(x)\n",
    "#     t = [word for word in t if word not in stop_words]\n",
    "#     return t\n",
    "\n",
    "# df['cleaned'] = df['cleaned'].apply(lambda x: token_remove_stop(x))\n",
    "\n",
    "# # perform stemming\n",
    "# def stemmer(x):\n",
    "#     return [ps.stem(word) for word in x]\n",
    "# df['cleaned'] = df['cleaned'].apply(lambda x: stemmer(x))"
   ]
  },
  {
   "cell_type": "code",
   "execution_count": 4,
   "metadata": {
    "collapsed": true
   },
   "outputs": [],
   "source": [
    "def custom_tokenizer_cleaning(x):\n",
    "    x = x.translate(str.maketrans('','',string.punctuation()))\n",
    "    t = nltk.word_tokenize(x)\n",
    "    t = [word for word in t if word not in stop_words]\n",
    "    ps = PorterStemmer()\n",
    "    return [ps.stem(word) for word in t]"
   ]
  },
  {
   "cell_type": "code",
   "execution_count": 5,
   "metadata": {
    "collapsed": true
   },
   "outputs": [],
   "source": [
    "def tokenize_and_stem(text):\n",
    "    # remove punctuation first\n",
    "    text = text.translate(str.maketrans('','',string.punctuation))\n",
    "    # convert to all lower\n",
    "    text = str.lower(text)\n",
    "    # tokenize by word\n",
    "    tokens = nltk.word_tokenize(text)\n",
    "    # remove stop words\n",
    "    tokens = [word for word in tokens if word not in stop_words]\n",
    "    # stem\n",
    "    stems = [stemmer.stem(t) for t in tokens]\n",
    "    return stems"
   ]
  },
  {
   "cell_type": "code",
   "execution_count": 6,
   "metadata": {
    "collapsed": true
   },
   "outputs": [],
   "source": [
    "def print_top_terms(k):\n",
    "    for i in range(k):\n",
    "        print(\"Cluster %d words:\\n\" % i, end='')\n",
    "        indices = centroids[i,:5]\n",
    "        t = [terms[i] for i in indices]\n",
    "        print(t)"
   ]
  },
  {
   "cell_type": "markdown",
   "metadata": {},
   "source": [
    "### Create tf-idf"
   ]
  },
  {
   "cell_type": "code",
   "execution_count": 7,
   "metadata": {
    "collapsed": true
   },
   "outputs": [],
   "source": [
    "# tfidf_vectorizer = TfidfVectorizer(analyzer='word',max_df=0.7, max_features=1000, strip_accents='ascii',\n",
    "#                                  min_df=0.1, stop_words='english', tokenizer=custom_tokenizer_cleaning,\n",
    "#                                  use_idf=True, ngram_range=(1,3))\n",
    "\n",
    "tfidf_vectorizer = TfidfVectorizer(analyzer='word',max_df=0.7, max_features=1000,\n",
    "                                 min_df=0.1, tokenizer=tokenize_and_stem,\n",
    "                                 use_idf=True, ngram_range=(1,3))\n",
    "\n",
    "tfidf_matrix = tfidf_vectorizer.fit_transform(df['abstract']) #fit the vectorizer to abstracts\n",
    "terms = tfidf_vectorizer.get_feature_names()"
   ]
  },
  {
   "cell_type": "markdown",
   "metadata": {},
   "source": [
    "### Do k-means clustering"
   ]
  },
  {
   "cell_type": "markdown",
   "metadata": {},
   "source": [
    "2.1) Vary the number of K from 2 to 6 and show if the results vary and assess the clusters obtained."
   ]
  },
  {
   "cell_type": "code",
   "execution_count": 8,
   "metadata": {},
   "outputs": [
    {
     "name": "stdout",
     "output_type": "stream",
     "text": [
      "#################\n",
      "Cluster terms at k=2:\n",
      "Cluster 0 words:\n",
      "['problem', 'algorithm', 'agent', 'comput', 'use']\n",
      "Cluster 1 words:\n",
      "['model', 'learn', 'data', 'method', 'propos']\n",
      "\n",
      "#################\n",
      "Cluster terms at k=3:\n",
      "Cluster 0 words:\n",
      "['model', 'user', 'network', 'predict', 'propos']\n",
      "Cluster 1 words:\n",
      "['learn', 'data', 'method', 'approach', 'propos']\n",
      "Cluster 2 words:\n",
      "['problem', 'algorithm', 'comput', 'agent', 'show']\n",
      "\n",
      "#################\n",
      "Cluster terms at k=4:\n",
      "Cluster 0 words:\n",
      "['model', 'user', 'network', 'predict', 'task']\n",
      "Cluster 1 words:\n",
      "['problem', 'algorithm', 'comput', 'use', 'show']\n",
      "Cluster 2 words:\n",
      "['learn', 'data', 'method', 'approach', 'propos']\n",
      "Cluster 3 words:\n",
      "['agent', 'prefer', 'design', 'problem', 'model']\n",
      "\n",
      "#################\n",
      "Cluster terms at k=5:\n",
      "Cluster 0 words:\n",
      "['problem', 'comput', 'show', 'constraint', 'search']\n",
      "Cluster 1 words:\n",
      "['algorithm', 'learn', 'propos', 'model', 'task']\n",
      "Cluster 2 words:\n",
      "['method', 'data', 'learn', 'approach', 'featur']\n",
      "Cluster 3 words:\n",
      "['model', 'user', 'network', 'data', 'propos']\n",
      "Cluster 4 words:\n",
      "['agent', 'prefer', 'design', 'problem', 'model']\n",
      "\n",
      "#################\n",
      "Cluster terms at k=6:\n",
      "Cluster 0 words:\n",
      "['model', 'user', 'network', 'predict', 'propos']\n",
      "Cluster 1 words:\n",
      "['search', 'algorithm', 'solut', 'problem', 'constraint']\n",
      "Cluster 2 words:\n",
      "['agent', 'prefer', 'design', 'problem', 'task']\n",
      "Cluster 3 words:\n",
      "['function', 'task', 'learn', 'use', 'object']\n",
      "Cluster 4 words:\n",
      "['data', 'method', 'learn', 'propos', 'featur']\n",
      "Cluster 5 words:\n",
      "['problem', 'comput', 'set', 'approach', 'use']\n",
      "\n"
     ]
    }
   ],
   "source": [
    "ks = [2,3,4,5,6]\n",
    "for k in ks:\n",
    "    km = KMeans(n_clusters=k)\n",
    "    km = km.fit(tfidf_matrix)\n",
    "    centroids = km.cluster_centers_.argsort()[:, ::-1]\n",
    "    indices = centroids[0,:5]\n",
    "    print('#################\\nCluster terms at k=%d:' % k)\n",
    "    print_top_terms(k)\n",
    "    print()"
   ]
  },
  {
   "cell_type": "markdown",
   "metadata": {},
   "source": [
    "2.2) Make a case regarding which clusters ‘make sense’ e.g., is there a cluster were papers on reinforcement learning are together vs. another cluster which has papers on deep learning."
   ]
  },
  {
   "cell_type": "markdown",
   "metadata": {},
   "source": [
    "It's difficult to find coherent clusters here. Some appear to be based off the type of approach, as in cluster 0 at k=4 where the cluster appears centered around network based models. Other clusters seem to be methodology-centered or theoretical, vs a more experimental focus (as in clusters 1 and 2 at k=5, respectively)."
   ]
  }
 ],
 "metadata": {
  "kernelspec": {
   "display_name": "Python 3",
   "language": "python",
   "name": "python3"
  },
  "language_info": {
   "codemirror_mode": {
    "name": "ipython",
    "version": 3
   },
   "file_extension": ".py",
   "mimetype": "text/x-python",
   "name": "python",
   "nbconvert_exporter": "python",
   "pygments_lexer": "ipython3",
   "version": "3.7.1"
  }
 },
 "nbformat": 4,
 "nbformat_minor": 1
}
