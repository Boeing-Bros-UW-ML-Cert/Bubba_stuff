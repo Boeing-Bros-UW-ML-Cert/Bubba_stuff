{
 "cells": [
  {
   "cell_type": "markdown",
   "metadata": {},
   "source": [
    "_The main focus of this assignment is Frequent Patternset Mining from theoretical as well as practical perspective_"
   ]
  },
  {
   "cell_type": "markdown",
   "metadata": {},
   "source": [
    "## Problem 1: Association Rule Mining"
   ]
  },
  {
   "cell_type": "markdown",
   "metadata": {},
   "source": [
    "Consider the following dataset"
   ]
  },
  {
   "cell_type": "markdown",
   "metadata": {},
   "source": [
    "{onion, apple, butter, yogurt, eggs, apple} <br>\n",
    "{onion, apple, butter, yogurt, eggs, milk} <br>\n",
    "{eggs, milk, butter, yogurt, eggs, milk} <br>\n",
    "{cheese, milk, butter, yogurt, eggs, milk} <br>\n",
    "{cheese, milk, eggs, milk}"
   ]
  },
  {
   "cell_type": "markdown",
   "metadata": {},
   "source": [
    "#### Part 1\n",
    "Using the FP-Tree algorithm with min support  = 0.6 and min confidence = 0.75 find all 3-frequent and all 4-frequent items. Show your work."
   ]
  },
  {
   "cell_type": "markdown",
   "metadata": {},
   "source": [
    "Step 1: Calculate support\n",
    "\n",
    "| Word | Count | Suppport|Meets Min Suppport|\n",
    "|---|:---:|---:|:---:|\n",
    "|onion|2|.4| |\n",
    "|apple|3|.6|x|\n",
    "|butter|4|.8|x|\n",
    "|yogurt|4|.8|x|\n",
    "|eggs|5|1.0|x|\n",
    "|milk|7|1.4|x|\n",
    "|cheese|2|.4| |\n",
    "\n",
    "Step 2: Eliminate items that don't meet minimum support and create F-list\n",
    "\n",
    "F-list : {milk, eggs, butter, yogurt, apple}\n",
    "\n",
    "|Curated data set|\n",
    "|---|\n",
    "|{apple, butter, yogurt, eggs}|\n",
    "|{apple, butter, yogurt, eggs, milk}|\n",
    "|{eggs, milk, butter, yogurt}|\n",
    "|{milk, butter, yogurt, eggs}|\n",
    "|{milk, eggs}|\n",
    "\n",
    "Step 3: Calculate confidence for combos, in order of appearance in F-list\n",
    "\n",
    "|Combo|Confidence|Meets Min Confidence|\n",
    "|---|:---:|\n",
    "|{milk,eggs}|.80|x|\n",
    "|{milk,butter}|.60| \n",
    "|{milk,yogurt}|.60|\n",
    "|{milk,apple}|.20|\n",
    "\n",
    "Step 4: Eliminate transactions that do not include our transactions that meet minimum confidence level\n",
    "\n",
    "|Curated data set|\n",
    "|---|\n",
    "|{apple, butter, yogurt, eggs, milk}|\n",
    "|{eggs, milk, butter, yogurt}|\n",
    "|{milk, butter, yogurt, eggs}|\n",
    "|{milk, eggs}|\n",
    "\n",
    "Step 5: Calculate confidence for 3-frequent combos and eliminate combos that don't reach the minimum\n",
    "\n",
    "|3-frequent terms|Confidence|Meets Min Confidence|\n",
    "|---|:---:|\n",
    "|{milk,eggs,butter}|.75|x|\n",
    "|{milk,eggs,yogurt}|.75|x|\n",
    "|{milk,eggs,apple}|.25|\n",
    "\n",
    "|Curated data set|\n",
    "|---|\n",
    "|{apple, butter, yogurt, eggs, milk}|\n",
    "|{eggs, milk, butter, yogurt}|\n",
    "|{milk, butter, yogurt, eggs}|\n",
    "\n",
    "Step 5: Calculate confidence for 4-frequent combos\n",
    "\n",
    "|4-frequent terms|Confidence|Meets Min Confidence|\n",
    "|---|:---:|\n",
    "|{milk,eggs,butter,yogurt}|1.0|x|\n",
    "|{milk,eggs,butter,apple}|.33||\n",
    "\n",
    "##### 3-frequent terms: {milk, eggs, butter}, {milk, eggs, yogurt}\n",
    "##### 4-frequent terms: {milk, eggs, butter, yogurt}\n"
   ]
  },
  {
   "cell_type": "markdown",
   "metadata": {},
   "source": [
    "- List 3 frequent item rulesets that can be derived from the previous set\n",
    "- Show that any 3-frequent itemsets can be derived from 2-frequent itemsets"
   ]
  },
  {
   "cell_type": "markdown",
   "metadata": {
    "collapsed": true
   },
   "source": [
    "_Note: Do not write code to answer this question_"
   ]
  },
  {
   "cell_type": "markdown",
   "metadata": {
    "collapsed": true
   },
   "source": [
    "## Problem 2: Applications of FP Mining"
   ]
  },
  {
   "cell_type": "markdown",
   "metadata": {},
   "source": [
    "Using the NIS Flanders Traffic Accident Dataset apply Frequent Itemset Mining to identify the road conditions, type of roads associated with accidents. Identify other rules of interest that are associated with accidents or lack thereof. Make a case regarding how you can use these rules to reduce traffic accidents.\n"
   ]
  },
  {
   "cell_type": "code",
   "execution_count": 4,
   "metadata": {
    "scrolled": true
   },
   "outputs": [],
   "source": [
    "import mlxtend\n",
    "from mlxtend.preprocessing import TransactionEncoder\n",
    "from mlxtend.frequent_patterns import apriori\n",
    "import pandas as pd\n",
    "dataset = pd.read_csv('NISTraffic.csv', sep = ' ')\n",
    "max = int(len(dataset)/16122)\n",
    "dataset = dataset.iloc[0:max,:]\n",
    "\n",
    "dataset = dataset.values.tolist()"
   ]
  },
  {
   "cell_type": "code",
   "execution_count": 6,
   "metadata": {},
   "outputs": [
    {
     "data": {
      "text/html": [
       "<div>\n",
       "<style scoped>\n",
       "    .dataframe tbody tr th:only-of-type {\n",
       "        vertical-align: middle;\n",
       "    }\n",
       "\n",
       "    .dataframe tbody tr th {\n",
       "        vertical-align: top;\n",
       "    }\n",
       "\n",
       "    .dataframe thead th {\n",
       "        text-align: right;\n",
       "    }\n",
       "</style>\n",
       "<table border=\"1\" class=\"dataframe\">\n",
       "  <thead>\n",
       "    <tr style=\"text-align: right;\">\n",
       "      <th></th>\n",
       "      <th>support</th>\n",
       "      <th>itemsets</th>\n",
       "    </tr>\n",
       "  </thead>\n",
       "  <tbody>\n",
       "    <tr>\n",
       "      <th>0</th>\n",
       "      <td>0.047619</td>\n",
       "      <td>[1,12,14,15,16,17,18,21,22,23,24,25,27,28,29,3...</td>\n",
       "    </tr>\n",
       "    <tr>\n",
       "      <th>1</th>\n",
       "      <td>0.047619</td>\n",
       "      <td>[1,5,8,10,12,14,15,16,17,18,19,20,21,22,24,25,...</td>\n",
       "    </tr>\n",
       "    <tr>\n",
       "      <th>2</th>\n",
       "      <td>0.047619</td>\n",
       "      <td>[1,5,8,10,12,14,15,16,17,18,21,22,24,25,27,28,...</td>\n",
       "    </tr>\n",
       "    <tr>\n",
       "      <th>3</th>\n",
       "      <td>0.047619</td>\n",
       "      <td>[1,5,8,12,14,15,16,17,18,19,21,22,24,25,26,27,...</td>\n",
       "    </tr>\n",
       "    <tr>\n",
       "      <th>4</th>\n",
       "      <td>0.047619</td>\n",
       "      <td>[1,5,8,12,14,15,16,17,18,21,23,24,25,26,27,28,...</td>\n",
       "    </tr>\n",
       "    <tr>\n",
       "      <th>5</th>\n",
       "      <td>0.047619</td>\n",
       "      <td>[1,5,8,12,16,17,18,21,22,24,25,28,31,38,39,41,...</td>\n",
       "    </tr>\n",
       "    <tr>\n",
       "      <th>6</th>\n",
       "      <td>0.047619</td>\n",
       "      <td>[1,8,10,12,14,15,16,17,18,21,22,23,24,25,27,29...</td>\n",
       "    </tr>\n",
       "    <tr>\n",
       "      <th>7</th>\n",
       "      <td>0.047619</td>\n",
       "      <td>[1,8,12,13,14,15,16,17,18,22,24,25,28,30,38,41...</td>\n",
       "    </tr>\n",
       "    <tr>\n",
       "      <th>8</th>\n",
       "      <td>0.047619</td>\n",
       "      <td>[1,8,12,14,15,16,17,18,19,21,23,24,25,26,27,28...</td>\n",
       "    </tr>\n",
       "    <tr>\n",
       "      <th>9</th>\n",
       "      <td>0.047619</td>\n",
       "      <td>[1,8,12,16,17,18,19,21,22,24,25,29,30,31,38,39...</td>\n",
       "    </tr>\n",
       "  </tbody>\n",
       "</table>\n",
       "</div>"
      ],
      "text/plain": [
       "    support                                           itemsets\n",
       "0  0.047619  [1,12,14,15,16,17,18,21,22,23,24,25,27,28,29,3...\n",
       "1  0.047619  [1,5,8,10,12,14,15,16,17,18,19,20,21,22,24,25,...\n",
       "2  0.047619  [1,5,8,10,12,14,15,16,17,18,21,22,24,25,27,28,...\n",
       "3  0.047619  [1,5,8,12,14,15,16,17,18,19,21,22,24,25,26,27,...\n",
       "4  0.047619  [1,5,8,12,14,15,16,17,18,21,23,24,25,26,27,28,...\n",
       "5  0.047619  [1,5,8,12,16,17,18,21,22,24,25,28,31,38,39,41,...\n",
       "6  0.047619  [1,8,10,12,14,15,16,17,18,21,22,23,24,25,27,29...\n",
       "7  0.047619  [1,8,12,13,14,15,16,17,18,22,24,25,28,30,38,41...\n",
       "8  0.047619  [1,8,12,14,15,16,17,18,19,21,23,24,25,26,27,28...\n",
       "9  0.047619  [1,8,12,16,17,18,19,21,22,24,25,29,30,31,38,39..."
      ]
     },
     "execution_count": 6,
     "metadata": {},
     "output_type": "execute_result"
    }
   ],
   "source": [
    "te = TransactionEncoder()\n",
    "te_ary = te.fit(dataset).transform(dataset)\n",
    "df = pd.DataFrame(te_ary, columns=te.columns_)\n",
    "frequent_itemsets = apriori(df, min_support=0.01, use_colnames=True)\n",
    "\n",
    "frequent_itemsets.head(10)"
   ]
  }
 ],
 "metadata": {
  "kernelspec": {
   "display_name": "Python 3 [3.6]",
   "language": "python",
   "name": "python3"
  },
  "language_info": {
   "codemirror_mode": {
    "name": "ipython",
    "version": 3
   },
   "file_extension": ".py",
   "mimetype": "text/x-python",
   "name": "python",
   "nbconvert_exporter": "python",
   "pygments_lexer": "ipython3",
   "version": "3.6.4"
  }
 },
 "nbformat": 4,
 "nbformat_minor": 1
}
