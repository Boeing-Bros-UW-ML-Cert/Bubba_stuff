{
 "cells": [
  {
   "cell_type": "markdown",
   "metadata": {},
   "source": [
    "_The main focus of this assignment is Building Recommendation Systems from theoretical as well as practical perspective_"
   ]
  },
  {
   "cell_type": "markdown",
   "metadata": {},
   "source": [
    "## Problem 1: Implementing Recommendation Systems"
   ]
  },
  {
   "cell_type": "markdown",
   "metadata": {},
   "source": [
    "The goal of this task is to predict the recommendation score for products given user reviews. The data consists of products as columns and users as rows. The data is given as follows where P refers to the product and U refers to the user. An entry in each cell refers to the users review score or recommendation for that product."
   ]
  },
  {
   "cell_type": "markdown",
   "metadata": {},
   "source": [
    "|   | P1 | P2 | P3 | P4 | P5 | P6 | P7 | P8 | P9 | P10 | \n",
    "|----|----|----|----|----|----|----|----|----|----|-----| \n",
    "| U1 | 3  | 7  | 4  | 9  | 9  | 7  | 6  | 7  | 8  | 8   | \n",
    "| U2 | 7  | 5  | 5  | 3  | 8  | 8  | 7  | 4  | 9  | 5   | \n",
    "| U3 | 7  | 5  | 5  | 0  | 8  | 4  | 8  | 6  | 7  | 9   | \n",
    "| U4 | 5  | 6  | 8  | 5  | 9  | 8  | 5  | 7  | 10 | 7   | \n",
    "| U5 | 5  | 8  | 8  | 8  | 10 | 9  | 7  | 4  | 9  | 8   | \n",
    "| U6 | 7  | 7  | 8  | 4  | 7  | 8  | 6  | 7  | 7  | 8   | \n"
   ]
  },
  {
   "cell_type": "markdown",
   "metadata": {},
   "source": [
    "Consider the following test set of users. The missing values are the products that the corresponding users have not bought. Given this dataset, determine which products U7, U8 and U9 should buy. Show the recommendation scores for the top 3 products."
   ]
  },
  {
   "cell_type": "markdown",
   "metadata": {},
   "source": [
    "|   | P1  | P2  | P3  | P4  | P5  | P6  | P7  | P8  | P9  | P10 | \n",
    "|----|-----|-----|-----|-----|-----|-----|-----|-----|-----|-----| \n",
    "| U7 |  ?  | 6   | 9   |   ? |   ? | 6   |   ? | 9   |   ? |   ? | \n",
    "| U8 | 7   |   ? | 9   |   ? | 4   |  ?  | 9   |  ?  | 7   |   ? | \n",
    "| U9 |   ? | 6   |   ? | 9   |   ? | 7   |   ? | 8   |   ? | 4   | \n"
   ]
  },
  {
   "cell_type": "code",
   "execution_count": 1,
   "metadata": {},
   "outputs": [],
   "source": [
    "# Load the Relevant libraries\n",
    "import sklearn as sk\n",
    "import pandas as pd\n",
    "import numpy as np\n",
    "\n",
    "train = pd.read_csv(\"ratingsDataTrain.csv\",index_col=[0])\n",
    "test = pd.read_csv(\"ratingsDataTest.csv\",index_col=[0])\n",
    "test = test.rename(index=dict(zip(['U1','U2','U3'],['U7','U8','U9'])))"
   ]
  },
  {
   "cell_type": "code",
   "execution_count": 2,
   "metadata": {},
   "outputs": [],
   "source": [
    "nearest_neighbor = {}\n",
    "# for each user in our test set, find their nearest neighbor\n",
    "for u in test.index:\n",
    "    # append the user to the training set\n",
    "    j = train.append(test.loc[u])\n",
    "    # find the correlation matrix\n",
    "    corr_mat = j.T.corr()\n",
    "    # eliminate the diagonal perfect correlation\n",
    "    corr_mat = corr_mat.replace(1.0,0.0)\n",
    "    # find the nearest neighbor for everyone\n",
    "    NNs = corr_mat.idxmax(axis=1)\n",
    "    # extract out just the user from the test set\n",
    "    nearest_neighbor.update({u:NNs[u]})"
   ]
  },
  {
   "cell_type": "code",
   "execution_count": null,
   "metadata": {},
   "outputs": [],
   "source": [
    "# TO-DO: Figure out how to replace null values with the value for that product in the corresponding nearest neighbor"
   ]
  },
  {
   "cell_type": "markdown",
   "metadata": {},
   "source": [
    "## Problem 2: Social Recommendation Systems"
   ]
  },
  {
   "cell_type": "markdown",
   "metadata": {},
   "source": [
    "Using the FilmTrust dataset which has historical likes information and social network connection create recommendation systems, pick any three pairs of randomly selected users and 2 randomly selected movies and make recommendations with and without the social network information.\n"
   ]
  },
  {
   "cell_type": "code",
   "execution_count": null,
   "metadata": {
    "collapsed": true
   },
   "outputs": [],
   "source": [
    "# Load the Relevant libraries\n",
    "import sklearn as sk\n",
    "\n",
    "# URL for the Social Network Data (UW Repository)\n",
    "url = \"FilmTrustSocialNetwork.csv\"\n",
    "\n",
    "# URL for the Ratings Data (UW Repository)\n",
    "url = \"FilmTrustRatings.csv\""
   ]
  }
 ],
 "metadata": {
  "kernelspec": {
   "display_name": "Python 3.5",
   "language": "python",
   "name": "python35"
  },
  "language_info": {
   "codemirror_mode": {
    "name": "ipython",
    "version": 3
   },
   "file_extension": ".py",
   "mimetype": "text/x-python",
   "name": "python",
   "nbconvert_exporter": "python",
   "pygments_lexer": "ipython3",
   "version": "3.5.2"
  }
 },
 "nbformat": 4,
 "nbformat_minor": 1
}
