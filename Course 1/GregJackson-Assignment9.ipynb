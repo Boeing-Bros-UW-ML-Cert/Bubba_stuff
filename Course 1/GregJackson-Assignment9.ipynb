{
 "cells": [
  {
   "cell_type": "markdown",
   "metadata": {
    "collapsed": true
   },
   "source": [
    "# Assignment 9: Bayesian Analysis"
   ]
  },
  {
   "cell_type": "markdown",
   "metadata": {},
   "source": [
    "### Conditional Probability "
   ]
  },
  {
   "cell_type": "markdown",
   "metadata": {},
   "source": [
    "Q.1. Let's say there are about 8.6 million people living in New-York and about 56 % of them speak Spanish. Let's also assume there are about 7.5 billion people on earth.\n",
    "\n",
    "If I randomly pick someone living on Earth (an Earthian?), what are the chances that this person is a Spanish speaking New-Yorker?\n",
    "\n",
    "P( New Yorker | Earthling ) ~ .11%\n",
    "\n",
    "P( Spanish Speaker | New Yorker ) ~ 56%\n",
    "\n",
    "P( Spanish-speaking New Yorker | Earthling ) = .11% * 56% = .06%\n",
    "\n",
    "\n",
    "\n",
    "Q.2 Explain in few terms what is Naive Bayes. What is it considered Naive?\n",
    "\n",
    "Naive Bayes is a way to estimate the probability of something (eg: the occurence of an event) based off some other data (eg: the previous occurence of some related event). It is considered naive because it considers all input data as independent.\n",
    "\n",
    "Q.3 Let's suppose we have a Deck of Cards (52 cards). We pick a card at random. What is the probability of the card we picked being a king, given that it is a face card. \n",
    "\n",
    "P( King | Face card ) = 4/12 = 33%"
   ]
  },
  {
   "cell_type": "code",
   "execution_count": 12,
   "metadata": {},
   "outputs": [
    {
     "name": "stdout",
     "output_type": "stream",
     "text": [
      "<class 'pandas.core.frame.DataFrame'>\n",
      "RangeIndex: 1841 entries, 0 to 1840\n",
      "Data columns (total 6 columns):\n",
      "Rash                       1841 non-null object\n",
      "SwollenLymphNode           1841 non-null object\n",
      "Chills                     1841 non-null object\n",
      "PolymeraseChainReaction    1841 non-null object\n",
      "VZVAntibodyTest            1841 non-null object\n",
      "Blisters                   1841 non-null object\n",
      "dtypes: object(6)\n",
      "memory usage: 86.4+ KB\n",
      "None\n"
     ]
    },
    {
     "data": {
      "text/html": [
       "<div>\n",
       "<style scoped>\n",
       "    .dataframe tbody tr th:only-of-type {\n",
       "        vertical-align: middle;\n",
       "    }\n",
       "\n",
       "    .dataframe tbody tr th {\n",
       "        vertical-align: top;\n",
       "    }\n",
       "\n",
       "    .dataframe thead th {\n",
       "        text-align: right;\n",
       "    }\n",
       "</style>\n",
       "<table border=\"1\" class=\"dataframe\">\n",
       "  <thead>\n",
       "    <tr style=\"text-align: right;\">\n",
       "      <th></th>\n",
       "      <th>Rash</th>\n",
       "      <th>SwollenLymphNode</th>\n",
       "      <th>Chills</th>\n",
       "      <th>PolymeraseChainReaction</th>\n",
       "      <th>VZVAntibodyTest</th>\n",
       "      <th>Blisters</th>\n",
       "    </tr>\n",
       "  </thead>\n",
       "  <tbody>\n",
       "    <tr>\n",
       "      <th>0</th>\n",
       "      <td>no</td>\n",
       "      <td>no</td>\n",
       "      <td>no</td>\n",
       "      <td>no</td>\n",
       "      <td>pos</td>\n",
       "      <td>no</td>\n",
       "    </tr>\n",
       "    <tr>\n",
       "      <th>1</th>\n",
       "      <td>yes</td>\n",
       "      <td>no</td>\n",
       "      <td>no</td>\n",
       "      <td>no</td>\n",
       "      <td>neg</td>\n",
       "      <td>no</td>\n",
       "    </tr>\n",
       "    <tr>\n",
       "      <th>2</th>\n",
       "      <td>no</td>\n",
       "      <td>no</td>\n",
       "      <td>no</td>\n",
       "      <td>no</td>\n",
       "      <td>neg</td>\n",
       "      <td>no</td>\n",
       "    </tr>\n",
       "    <tr>\n",
       "      <th>3</th>\n",
       "      <td>no</td>\n",
       "      <td>no</td>\n",
       "      <td>no</td>\n",
       "      <td>no</td>\n",
       "      <td>neg</td>\n",
       "      <td>no</td>\n",
       "    </tr>\n",
       "    <tr>\n",
       "      <th>4</th>\n",
       "      <td>no</td>\n",
       "      <td>no</td>\n",
       "      <td>no</td>\n",
       "      <td>no</td>\n",
       "      <td>neg</td>\n",
       "      <td>no</td>\n",
       "    </tr>\n",
       "  </tbody>\n",
       "</table>\n",
       "</div>"
      ],
      "text/plain": [
       "  Rash SwollenLymphNode Chills PolymeraseChainReaction VZVAntibodyTest  \\\n",
       "0   no               no     no                      no             pos   \n",
       "1  yes               no     no                      no             neg   \n",
       "2   no               no     no                      no             neg   \n",
       "3   no               no     no                      no             neg   \n",
       "4   no               no     no                      no             neg   \n",
       "\n",
       "  Blisters  \n",
       "0       no  \n",
       "1       no  \n",
       "2       no  \n",
       "3       no  \n",
       "4       no  "
      ]
     },
     "execution_count": 12,
     "metadata": {},
     "output_type": "execute_result"
    }
   ],
   "source": [
    "import pandas as pd\n",
    "\n",
    "data = pd.read_csv('shingles.csv')\n",
    "print(data.info())\n",
    "data.head()"
   ]
  },
  {
   "cell_type": "markdown",
   "metadata": {},
   "source": [
    "Q.4. Does this data contain any missing values?"
   ]
  },
  {
   "cell_type": "code",
   "execution_count": 13,
   "metadata": {},
   "outputs": [
    {
     "data": {
      "text/plain": [
       "Rash                       0\n",
       "SwollenLymphNode           0\n",
       "Chills                     0\n",
       "PolymeraseChainReaction    0\n",
       "VZVAntibodyTest            0\n",
       "Blisters                   0\n",
       "dtype: int64"
      ]
     },
     "execution_count": 13,
     "metadata": {},
     "output_type": "execute_result"
    }
   ],
   "source": [
    "data.isnull().sum()\n",
    "\n",
    "# No nulls"
   ]
  },
  {
   "cell_type": "markdown",
   "metadata": {},
   "source": [
    "Q.5. Split the data into 70/30 train test"
   ]
  },
  {
   "cell_type": "code",
   "execution_count": 14,
   "metadata": {
    "collapsed": true
   },
   "outputs": [],
   "source": [
    "# refactor all variables as binary first\n",
    "\n",
    "target =  'VZVAntibodyTest'\n",
    "features = list(data.drop(target,axis=1).columns.values)\n",
    "\n",
    "cols = data.columns\n",
    "\n",
    "for c in cols:\n",
    "    data[c] = data[c].replace({'yes':1,'pos':1,'po':1,'neg':0,'no':0})"
   ]
  },
  {
   "cell_type": "code",
   "execution_count": 15,
   "metadata": {
    "collapsed": true
   },
   "outputs": [],
   "source": [
    "from sklearn.model_selection import train_test_split\n",
    "from sklearn.naive_bayes import BernoulliNB\n",
    "from sklearn.naive_bayes import GaussianNB\n",
    "from sklearn.naive_bayes import MultinomialNB\n",
    "from sklearn import metrics\n",
    "from sklearn.metrics import accuracy_score\n",
    "\n",
    "X = data[features]\n",
    "y = data[target].values\n",
    "\n",
    "X_train, X_test, y_train, y_test = train_test_split(X, y, test_size=.3,random_state=314)"
   ]
  },
  {
   "cell_type": "markdown",
   "metadata": {},
   "source": [
    "Q.6. Train a Gaussian Naive Bayes model, a Multinomial Naive Bayes and a Bernoulli Naive Bayes on the dataset. Compute the accuracy for each. Explain your results. "
   ]
  },
  {
   "cell_type": "markdown",
   "metadata": {},
   "source": [
    "#### All three models perform very similarly, and none perform very well. The Bernoulli model performs slightly differently, which makes sense. The Bernoulli NB implementation specifically handles class data like what we have here, while the other aren't specialized for that kind of data."
   ]
  },
  {
   "cell_type": "code",
   "execution_count": 16,
   "metadata": {},
   "outputs": [
    {
     "name": "stdout",
     "output_type": "stream",
     "text": [
      "Bernoulli NB Accuracy: 0.588\n"
     ]
    }
   ],
   "source": [
    "bern = BernoulliNB(binarize=True)\n",
    "bern.fit(X_train,y_train)\n",
    "bern_pred = bern.predict(X_test)\n",
    "print('Bernoulli NB Accuracy: {}'.format(accuracy_score(y_test,bern_pred).round(3)))"
   ]
  },
  {
   "cell_type": "code",
   "execution_count": 17,
   "metadata": {},
   "outputs": [
    {
     "name": "stdout",
     "output_type": "stream",
     "text": [
      "Multinomial NB Accuracy: 0.596745\n"
     ]
    }
   ],
   "source": [
    "multi = MultinomialNB(alpha=.0000001)\n",
    "multi.fit(X_train,y_train)\n",
    "multi_pred = multi.predict(X_test)\n",
    "print('Multinomial NB Accuracy: {}'.format(accuracy_score(y_test,multi_pred).round(7)))"
   ]
  },
  {
   "cell_type": "code",
   "execution_count": 18,
   "metadata": {},
   "outputs": [
    {
     "name": "stdout",
     "output_type": "stream",
     "text": [
      "Gaussian NB Accuracy: 0.596745\n"
     ]
    }
   ],
   "source": [
    "gauss = GaussianNB()\n",
    "gauss.fit(X_train,y_train)\n",
    "gauss_pred = gauss.predict(X_test)\n",
    "print('Gaussian NB Accuracy: {}'.format(accuracy_score(y_test,gauss_pred).round(7)))"
   ]
  },
  {
   "cell_type": "markdown",
   "metadata": {},
   "source": [
    "## Inference in Bayesian networks"
   ]
  },
  {
   "cell_type": "markdown",
   "metadata": {},
   "source": [
    "Q.7. Imagine you are at party on Sunday and have an exam on Monday.  If you drink\n",
    "too much alcolhol at the birthday party, you most likely have problems concentrating the next day, which\n",
    "would reduce the probability that you pass the exam.  Another consequence of the reduced concentration\n",
    "might be increased stress with your roommate.\n",
    "\n",
    "Consider the following random variables that can assume the values \"true\" or \"false\":\n",
    "A:  drinking too much alcolhol on Sunday;\n",
    "B:  Dairy allergy strikes;\n",
    "C:  reduced concentration on Monday;\n",
    "D:  you pass the exam;\n",
    "E:  stress with your roommates.\n",
    "\n",
    "a) Draw the corresponding Bayesian network.\n",
    "\n",
    "b) Search for conditional dependencies and independencies."
   ]
  },
  {
   "cell_type": "code",
   "execution_count": 3,
   "metadata": {
    "collapsed": true
   },
   "outputs": [],
   "source": [
    "import matplotlib.pyplot as plt\n",
    "%matplotlib inline\n",
    "\n",
    "def plot_circle(ax_, x_, y_, lx_, ly_, label_):\n",
    "    ax_.add_artist(plt.Circle((x_, y_), 0.13, color='blue', fill=False, linewidth=2))\n",
    "    ax_.text(lx_, ly_, label_, size=15, horizontalalignment='center')\n",
    "\n",
    "def plot_arrow(ax_, x_, y_, dx_, dy_):\n",
    "    ax_.arrow(x_, y_, dx_, dy_, head_width=0.02, head_length=0.02, fc='k', ec='k', linewidth=2)"
   ]
  },
  {
   "cell_type": "code",
   "execution_count": 21,
   "metadata": {},
   "outputs": [
    {
     "data": {
      "image/png": "[encoded data removed]",
      "text/plain": [
       "<matplotlib.figure.Figure at 0x7fa67805e630>"
      ]
     },
     "metadata": {},
     "output_type": "display_data"
    }
   ],
   "source": [
    "fig, ax = plt.subplots(figsize=(8,8))\n",
    "\n",
    "plot_circle(ax, 0.2, 0.8, 0.2, 0.77, 'Drinking\\ntoo much')\n",
    "plot_circle(ax, 0.5, 0.5, 0.5, 0.48, 'Reduced\\nConcentration')\n",
    "plot_circle(ax, 0.8, 0.8, 0.8, 0.75, 'Dairy\\nAllergy\\nStrikes')\n",
    "plot_circle(ax, 0.2, 0.2, 0.2, 0.17, 'Conflict with\\nRoomate')\n",
    "plot_circle(ax, 0.8, 0.2, 0.8, 0.19, 'Pass Exam')\n",
    "\n",
    "plot_arrow(ax, 0.298, 0.71, 0.097, -0.097)\n",
    "plot_arrow(ax, 0.6, 0.41, 0.095, -0.095)\n",
    "plot_arrow(ax, 0.7, 0.71, -0.095, -0.095)\n",
    "plot_arrow(ax, 0.4, 0.41, -0.095, -0.095)\n",
    "plot_arrow(ax, 0.2, 0.66, 0, -.3)\n",
    "\n",
    "plt.axis('off')\n",
    "plt.show()"
   ]
  },
  {
   "cell_type": "markdown",
   "metadata": {
    "collapsed": true
   },
   "source": [
    "```sequence\n",
    "Obviously drinking too much will effect concentration which will impact odds of passing exams, which will lead to more stress in general, and with roommates.\n",
    "\n",
    "An allergy problem could also cause problems with concentration, impacting exam results, and therefore stress. However, there is no direct relationship between allergies and roommates.\n",
    "```"
   ]
  }
 ],
 "metadata": {
  "kernelspec": {
   "display_name": "Python 3 [3.6]",
   "language": "python",
   "name": "python3"
  },
  "language_info": {
   "codemirror_mode": {
    "name": "ipython",
    "version": 3
   },
   "file_extension": ".py",
   "mimetype": "text/x-python",
   "name": "python",
   "nbconvert_exporter": "python",
   "pygments_lexer": "ipython3",
   "version": "3.6.4"
  }
 },
 "nbformat": 4,
 "nbformat_minor": 2
}
