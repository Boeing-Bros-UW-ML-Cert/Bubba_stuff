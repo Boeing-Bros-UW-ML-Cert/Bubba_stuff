{
 "cells": [
  {
   "cell_type": "markdown",
   "metadata": {},
   "source": [
    "## <h1>Lesson 2. Regression analysis: How Much Is Your Car Worth?</h1>"
   ]
  },
  {
   "cell_type": "markdown",
   "metadata": {},
   "source": [
    "<img src=\"https://upload.wikimedia.org/wikipedia/commons/thumb/7/72/Kelley_Blue_Book_Vertical.JPG/152px-Kelley_Blue_Book_Vertical.JPG\" style=\"height:200px;\">\n",
    "  \n",
    "  <p>This exercise will use data collected from <a href=\"https://www.kbb.com/\">Kelly Blue Book</a> for 2005 for used General Motors (GM) cars. The overall goal is to predict the suggested retail price of the car (<a href=\"http://ww2.amstat.org/publications/jse/jse_data_archive.htm\">Kuiper (2008), JSE</a>).</p>\n",
    "\n",
    "<p>The following features are available for this dataset:</p>\n",
    "<ul>\n",
    "<li>Price: Suggested retail price of the used 2005 GM car</li>\n",
    "<li>Mileage: Car mileage</li>\n",
    "<li>Cylinder: Number of cylinders in the engine</li>\n",
    "<li>Doors: Number of doors</li>\n",
    "<li>Cruise: Does it have cruise control</li>\n",
    "<li>Sound: Does it have upgraded sound?</li>\n",
    "<li>Leather: Does it have leather seats?</li>\n",
    "<li>Make columns (indicator variables):\n",
    "    <ul>\n",
    "        <li>Buick</li>\n",
    "        <li>Cadillac</li>\n",
    "        <li>Chevy</li>\n",
    "        <li>Pontiac</li>\n",
    "        <li>Saab</li>\n",
    "        <li>...</li>\n",
    "    </ul>\n",
    "</li>\n",
    "<li>Body Type columns (indicator variables):\n",
    "    <ul>\n",
    "        <li>convertible</li>\n",
    "        <li>coupe</li>\n",
    "        <li>hatchback</li>\n",
    "        <li>sedan</li>\n",
    "        <li>...</li>\n",
    "    </ul>\n",
    "</li>\n",
    "</ul>\n"
   ]
  },
  {
   "cell_type": "code",
   "execution_count": 1,
   "metadata": {},
   "outputs": [
    {
     "data": {
      "text/html": [
       "<div>\n",
       "<style>\n",
       "    .dataframe thead tr:only-child th {\n",
       "        text-align: right;\n",
       "    }\n",
       "\n",
       "    .dataframe thead th {\n",
       "        text-align: left;\n",
       "    }\n",
       "\n",
       "    .dataframe tbody tr th {\n",
       "        vertical-align: top;\n",
       "    }\n",
       "</style>\n",
       "<table border=\"1\" class=\"dataframe\">\n",
       "  <thead>\n",
       "    <tr style=\"text-align: right;\">\n",
       "      <th></th>\n",
       "      <th>Price</th>\n",
       "      <th>Mileage</th>\n",
       "      <th>Cylinder</th>\n",
       "      <th>Doors</th>\n",
       "      <th>Cruise</th>\n",
       "      <th>Sound</th>\n",
       "      <th>Leather</th>\n",
       "      <th>Buick</th>\n",
       "      <th>Cadillac</th>\n",
       "      <th>Chevy</th>\n",
       "      <th>Pontiac</th>\n",
       "      <th>Saab</th>\n",
       "      <th>Saturn</th>\n",
       "      <th>convertible</th>\n",
       "      <th>coupe</th>\n",
       "      <th>hatchback</th>\n",
       "      <th>sedan</th>\n",
       "      <th>wagon</th>\n",
       "    </tr>\n",
       "  </thead>\n",
       "  <tbody>\n",
       "    <tr>\n",
       "      <th>0</th>\n",
       "      <td>22661.05</td>\n",
       "      <td>20105</td>\n",
       "      <td>6</td>\n",
       "      <td>4</td>\n",
       "      <td>1</td>\n",
       "      <td>0</td>\n",
       "      <td>0</td>\n",
       "      <td>1</td>\n",
       "      <td>0</td>\n",
       "      <td>0</td>\n",
       "      <td>0</td>\n",
       "      <td>0</td>\n",
       "      <td>0</td>\n",
       "      <td>0</td>\n",
       "      <td>0</td>\n",
       "      <td>0</td>\n",
       "      <td>1</td>\n",
       "      <td>0</td>\n",
       "    </tr>\n",
       "    <tr>\n",
       "      <th>1</th>\n",
       "      <td>21725.01</td>\n",
       "      <td>13457</td>\n",
       "      <td>6</td>\n",
       "      <td>2</td>\n",
       "      <td>1</td>\n",
       "      <td>1</td>\n",
       "      <td>0</td>\n",
       "      <td>0</td>\n",
       "      <td>0</td>\n",
       "      <td>1</td>\n",
       "      <td>0</td>\n",
       "      <td>0</td>\n",
       "      <td>0</td>\n",
       "      <td>0</td>\n",
       "      <td>1</td>\n",
       "      <td>0</td>\n",
       "      <td>0</td>\n",
       "      <td>0</td>\n",
       "    </tr>\n",
       "    <tr>\n",
       "      <th>2</th>\n",
       "      <td>29142.71</td>\n",
       "      <td>31655</td>\n",
       "      <td>4</td>\n",
       "      <td>2</td>\n",
       "      <td>1</td>\n",
       "      <td>1</td>\n",
       "      <td>1</td>\n",
       "      <td>0</td>\n",
       "      <td>0</td>\n",
       "      <td>0</td>\n",
       "      <td>0</td>\n",
       "      <td>1</td>\n",
       "      <td>0</td>\n",
       "      <td>1</td>\n",
       "      <td>0</td>\n",
       "      <td>0</td>\n",
       "      <td>0</td>\n",
       "      <td>0</td>\n",
       "    </tr>\n",
       "    <tr>\n",
       "      <th>3</th>\n",
       "      <td>30731.94</td>\n",
       "      <td>22479</td>\n",
       "      <td>4</td>\n",
       "      <td>2</td>\n",
       "      <td>1</td>\n",
       "      <td>0</td>\n",
       "      <td>0</td>\n",
       "      <td>0</td>\n",
       "      <td>0</td>\n",
       "      <td>0</td>\n",
       "      <td>0</td>\n",
       "      <td>1</td>\n",
       "      <td>0</td>\n",
       "      <td>1</td>\n",
       "      <td>0</td>\n",
       "      <td>0</td>\n",
       "      <td>0</td>\n",
       "      <td>0</td>\n",
       "    </tr>\n",
       "    <tr>\n",
       "      <th>4</th>\n",
       "      <td>33358.77</td>\n",
       "      <td>17590</td>\n",
       "      <td>4</td>\n",
       "      <td>2</td>\n",
       "      <td>1</td>\n",
       "      <td>1</td>\n",
       "      <td>1</td>\n",
       "      <td>0</td>\n",
       "      <td>0</td>\n",
       "      <td>0</td>\n",
       "      <td>0</td>\n",
       "      <td>1</td>\n",
       "      <td>0</td>\n",
       "      <td>1</td>\n",
       "      <td>0</td>\n",
       "      <td>0</td>\n",
       "      <td>0</td>\n",
       "      <td>0</td>\n",
       "    </tr>\n",
       "  </tbody>\n",
       "</table>\n",
       "</div>"
      ],
      "text/plain": [
       "      Price  Mileage  Cylinder  Doors  Cruise  Sound  Leather  Buick  \\\n",
       "0  22661.05    20105         6      4       1      0        0      1   \n",
       "1  21725.01    13457         6      2       1      1        0      0   \n",
       "2  29142.71    31655         4      2       1      1        1      0   \n",
       "3  30731.94    22479         4      2       1      0        0      0   \n",
       "4  33358.77    17590         4      2       1      1        1      0   \n",
       "\n",
       "   Cadillac  Chevy  Pontiac  Saab  Saturn  convertible  coupe  hatchback  \\\n",
       "0         0      0        0     0       0            0      0          0   \n",
       "1         0      1        0     0       0            0      1          0   \n",
       "2         0      0        0     1       0            1      0          0   \n",
       "3         0      0        0     1       0            1      0          0   \n",
       "4         0      0        0     1       0            1      0          0   \n",
       "\n",
       "   sedan  wagon  \n",
       "0      1      0  \n",
       "1      0      0  \n",
       "2      0      0  \n",
       "3      0      0  \n",
       "4      0      0  "
      ]
     },
     "execution_count": 1,
     "metadata": {},
     "output_type": "execute_result"
    }
   ],
   "source": [
    "import pandas as pd\n",
    "import numpy as np\n",
    "\n",
    "cars = pd.read_csv('cars.csv')\n",
    "cars.head()"
   ]
  },
  {
   "cell_type": "code",
   "execution_count": 2,
   "metadata": {},
   "outputs": [
    {
     "name": "stdout",
     "output_type": "stream",
     "text": [
      "<class 'pandas.core.frame.DataFrame'>\n",
      "RangeIndex: 804 entries, 0 to 803\n",
      "Data columns (total 18 columns):\n",
      "Price          804 non-null float64\n",
      "Mileage        804 non-null int64\n",
      "Cylinder       804 non-null int64\n",
      "Doors          804 non-null int64\n",
      "Cruise         804 non-null int64\n",
      "Sound          804 non-null int64\n",
      "Leather        804 non-null int64\n",
      "Buick          804 non-null int64\n",
      "Cadillac       804 non-null int64\n",
      "Chevy          804 non-null int64\n",
      "Pontiac        804 non-null int64\n",
      "Saab           804 non-null int64\n",
      "Saturn         804 non-null int64\n",
      "convertible    804 non-null int64\n",
      "coupe          804 non-null int64\n",
      "hatchback      804 non-null int64\n",
      "sedan          804 non-null int64\n",
      "wagon          804 non-null int64\n",
      "dtypes: float64(1), int64(17)\n",
      "memory usage: 113.1 KB\n"
     ]
    }
   ],
   "source": [
    "cars.info()"
   ]
  },
  {
   "cell_type": "markdown",
   "metadata": {},
   "source": [
    "<h3>Q.1. Plot Price vs. Mileage. From the plot, does it seem like cars with more mileage are worth less?</h3>"
   ]
  },
  {
   "cell_type": "code",
   "execution_count": 3,
   "metadata": {},
   "outputs": [
    {
     "data": {
      "image/png": "[encoded data removed]",
      "text/plain": [
       "<matplotlib.figure.Figure at 0x7f28cf1ff908>"
      ]
     },
     "metadata": {},
     "output_type": "display_data"
    }
   ],
   "source": [
    "# Put the command (or commands) here that would give answer to the above question.\n",
    "import matplotlib.pyplot as plt\n",
    "\n",
    "plt.scatter(cars.Mileage,cars.Price)\n",
    "plt.xlabel(\"Mileage\")\n",
    "plt.ylabel(\"Price\")\n",
    "plt.show()"
   ]
  },
  {
   "cell_type": "markdown",
   "metadata": {},
   "source": [
    "#### It appears that there is a relationship between mileage and price, especially at higher price ranges"
   ]
  },
  {
   "cell_type": "markdown",
   "metadata": {},
   "source": [
    "<h3>Q.2. Develop a simple linear regression model, relating price with mileage only. Show summary statistics for the model.</h3> "
   ]
  },
  {
   "cell_type": "code",
   "execution_count": 10,
   "metadata": {},
   "outputs": [
    {
     "name": "stdout",
     "output_type": "stream",
     "text": [
      "Intercept:  24764.56\n",
      "Coefficient of mileage: -0.173\n",
      "R^2: -0.14\n",
      "P-value: 0.0\n",
      "MSE: 95591781.67\n",
      "Std Err: 0.04\n"
     ]
    }
   ],
   "source": [
    "# Linear regression model:\n",
    "from sklearn.linear_model import LinearRegression\n",
    "from sklearn.model_selection import train_test_split\n",
    "import sklearn.metrics as metrics\n",
    "\n",
    "X = cars.Mileage.values.reshape(-1,1)\n",
    "y = cars.Price.values.reshape(-1,1)\n",
    "\n",
    "mod = LinearRegression().fit(X,y)\n",
    "y_pred = mod.predict(X)\n",
    "res = y - y_pred\n",
    "\n",
    "\n",
    "# Show summary statistics for the model:\n",
    "from scipy import stats\n",
    "slope, intercept, r_value, p_value, std_err = stats.linregress(X[:,0],y[:,0])\n",
    "\n",
    "print(\"Intercept: \",intercept.round(2))\n",
    "print(\"Coefficient of mileage:\",slope.round(3))\n",
    "print(\"R^2:\",r_value.round(2))\n",
    "print(\"P-value:\",p_value.round(2))\n",
    "print(\"MSE:\",metrics.mean_squared_error(y,y_pred).round(2))\n",
    "print(\"Std Err:\",std_err.round(2))"
   ]
  },
  {
   "cell_type": "markdown",
   "metadata": {},
   "source": [
    "<h3>Q.3. What happens to price when there is one more mile on the car?</h3>"
   ]
  },
  {
   "cell_type": "code",
   "execution_count": 5,
   "metadata": {},
   "outputs": [
    {
     "name": "stdout",
     "output_type": "stream",
     "text": [
      "Coefficient of mileage: -0.173\n",
      "\n",
      "When mileage increases by one unit, price changes by $-0.173\n"
     ]
    }
   ],
   "source": [
    "# Command:\n",
    "print(\"Coefficient of mileage:\",slope.round(3))\n",
    "# One sentence summary:\n",
    "print(\"\")\n",
    "print(\"When mileage increases by one unit, price changes by ${}\".format(slope.round(3)))"
   ]
  },
  {
   "cell_type": "markdown",
   "metadata": {},
   "source": [
    "<h3>Q.4. What is the expected value of a car with 0 miles according to your model?</h3>"
   ]
  },
  {
   "cell_type": "code",
   "execution_count": 6,
   "metadata": {},
   "outputs": [
    {
     "name": "stdout",
     "output_type": "stream",
     "text": [
      "Intercept (car with zero miles): $24764.56\n"
     ]
    }
   ],
   "source": [
    "# Single command\n",
    "print(\"Intercept (car with zero miles): ${}\".format(intercept.round(2)))"
   ]
  },
  {
   "cell_type": "markdown",
   "metadata": {},
   "source": [
    "<h3>Q.5. Plot residuals of the model vs. fitted values. Are there any problems that you see with the model?</h3>"
   ]
  },
  {
   "cell_type": "code",
   "execution_count": 13,
   "metadata": {},
   "outputs": [
    {
     "data": {
      "image/png": "[encoded data removed]",
      "text/plain": [
       "<matplotlib.figure.Figure at 0x7f28bf7ffe10>"
      ]
     },
     "metadata": {},
     "output_type": "display_data"
    }
   ],
   "source": [
    "# Plot residuals\n",
    "# plt.scatter(X,y)\n",
    "# plt.xlabel(\"Mileage\")\n",
    "# plt.ylabel(\"Price\")\n",
    "# plt.plot(X_train,y_pred,color='orange')\n",
    "# plt.show()\n",
    "\n",
    "plt.scatter(y,res)\n",
    "plt.xlabel(\"Observed Y\")\n",
    "plt.ylabel(\"Residual\")\n",
    "plt.show()\n",
    "\n",
    "# Explain whether there are any problems (1-2 sentence)\n",
    "# The residuals appear to be mostly normal, with the possible exception of values at the higher end of y"
   ]
  },
  {
   "cell_type": "markdown",
   "metadata": {},
   "source": [
    "<h3>Q.6. Develop a model that predicts the Price from Mileage, Cylinder, Doors, Cruise, Sound, Leather data. Is this model more accurate - explain why (1-2 sentence). </h3>"
   ]
  },
  {
   "cell_type": "code",
   "execution_count": 20,
   "metadata": {},
   "outputs": [
    {
     "name": "stderr",
     "output_type": "stream",
     "text": [
      "/usr/local/lib/python3.5/dist-packages/ipykernel_launcher.py:10: SettingWithCopyWarning: \n",
      "A value is trying to be set on a copy of a slice from a DataFrame.\n",
      "Try using .loc[row_indexer,col_indexer] = value instead\n",
      "\n",
      "See the caveats in the documentation: http://pandas.pydata.org/pandas-docs/stable/indexing.html#indexing-view-versus-copy\n",
      "  # Remove the CWD from sys.path while we load stuff.\n",
      "/usr/local/lib/python3.5/dist-packages/pandas/core/indexing.py:517: SettingWithCopyWarning: \n",
      "A value is trying to be set on a copy of a slice from a DataFrame.\n",
      "Try using .loc[row_indexer,col_indexer] = value instead\n",
      "\n",
      "See the caveats in the documentation: http://pandas.pydata.org/pandas-docs/stable/indexing.html#indexing-view-versus-copy\n",
      "  self.obj[item] = s\n"
     ]
    },
    {
     "data": {
      "text/html": [
       "<table class=\"simpletable\">\n",
       "<caption>OLS Regression Results</caption>\n",
       "<tr>\n",
       "  <th>Dep. Variable:</th>            <td>y</td>        <th>  R-squared:         </th> <td>   0.079</td> \n",
       "</tr>\n",
       "<tr>\n",
       "  <th>Model:</th>                   <td>OLS</td>       <th>  Adj. R-squared:    </th> <td>   0.072</td> \n",
       "</tr>\n",
       "<tr>\n",
       "  <th>Method:</th>             <td>Least Squares</td>  <th>  F-statistic:       </th> <td>   11.35</td> \n",
       "</tr>\n",
       "<tr>\n",
       "  <th>Date:</th>             <td>Thu, 11 Oct 2018</td> <th>  Prob (F-statistic):</th> <td>3.38e-12</td> \n",
       "</tr>\n",
       "<tr>\n",
       "  <th>Time:</th>                 <td>18:44:21</td>     <th>  Log-Likelihood:    </th> <td> -9200.6</td> \n",
       "</tr>\n",
       "<tr>\n",
       "  <th>No. Observations:</th>      <td>   804</td>      <th>  AIC:               </th> <td>1.841e+04</td>\n",
       "</tr>\n",
       "<tr>\n",
       "  <th>Df Residuals:</th>          <td>   798</td>      <th>  BIC:               </th> <td>1.844e+04</td>\n",
       "</tr>\n",
       "<tr>\n",
       "  <th>Df Model:</th>              <td>     6</td>      <th>                     </th>     <td> </td>    \n",
       "</tr>\n",
       "<tr>\n",
       "  <th>Covariance Type:</th>      <td>nonrobust</td>    <th>                     </th>     <td> </td>    \n",
       "</tr>\n",
       "</table>\n",
       "<table class=\"simpletable\">\n",
       "<tr>\n",
       "      <td></td>        <th>coef</th>     <th>std err</th>      <th>t</th>      <th>P>|t|</th>  <th>[0.025</th>    <th>0.975]</th>  \n",
       "</tr>\n",
       "<tr>\n",
       "  <th>Mileage</th>  <td>-1396.7431</td> <td>  800.507</td> <td>   -1.745</td> <td> 0.081</td> <td>-2968.091</td> <td>  174.605</td>\n",
       "</tr>\n",
       "<tr>\n",
       "  <th>Cylinder</th> <td> 4437.5107</td> <td>  863.395</td> <td>    5.140</td> <td> 0.000</td> <td> 2742.717</td> <td> 6132.304</td>\n",
       "</tr>\n",
       "<tr>\n",
       "  <th>Doors</th>    <td>-1243.3624</td> <td>  803.432</td> <td>   -1.548</td> <td> 0.122</td> <td>-2820.452</td> <td>  333.728</td>\n",
       "</tr>\n",
       "<tr>\n",
       "  <th>Cruise</th>   <td> 2678.0936</td> <td>  862.412</td> <td>    3.105</td> <td> 0.002</td> <td>  985.229</td> <td> 4370.958</td>\n",
       "</tr>\n",
       "<tr>\n",
       "  <th>Sound</th>    <td> -945.0324</td> <td>  817.238</td> <td>   -1.156</td> <td> 0.248</td> <td>-2549.223</td> <td>  659.158</td>\n",
       "</tr>\n",
       "<tr>\n",
       "  <th>Leather</th>  <td> 1487.4880</td> <td>  818.872</td> <td>    1.817</td> <td> 0.070</td> <td> -119.910</td> <td> 3094.886</td>\n",
       "</tr>\n",
       "</table>\n",
       "<table class=\"simpletable\">\n",
       "<tr>\n",
       "  <th>Omnibus:</th>       <td>145.941</td> <th>  Durbin-Watson:     </th> <td>   0.053</td>\n",
       "</tr>\n",
       "<tr>\n",
       "  <th>Prob(Omnibus):</th> <td> 0.000</td>  <th>  Jarque-Bera (JB):  </th> <td> 258.863</td>\n",
       "</tr>\n",
       "<tr>\n",
       "  <th>Skew:</th>          <td> 1.098</td>  <th>  Prob(JB):          </th> <td>6.15e-57</td>\n",
       "</tr>\n",
       "<tr>\n",
       "  <th>Kurtosis:</th>      <td> 4.703</td>  <th>  Cond. No.          </th> <td>    1.52</td>\n",
       "</tr>\n",
       "</table>"
      ],
      "text/plain": [
       "<class 'statsmodels.iolib.summary.Summary'>\n",
       "\"\"\"\n",
       "                            OLS Regression Results                            \n",
       "==============================================================================\n",
       "Dep. Variable:                      y   R-squared:                       0.079\n",
       "Model:                            OLS   Adj. R-squared:                  0.072\n",
       "Method:                 Least Squares   F-statistic:                     11.35\n",
       "Date:                Thu, 11 Oct 2018   Prob (F-statistic):           3.38e-12\n",
       "Time:                        18:44:21   Log-Likelihood:                -9200.6\n",
       "No. Observations:                 804   AIC:                         1.841e+04\n",
       "Df Residuals:                     798   BIC:                         1.844e+04\n",
       "Df Model:                           6                                         \n",
       "Covariance Type:            nonrobust                                         \n",
       "==============================================================================\n",
       "                 coef    std err          t      P>|t|      [0.025      0.975]\n",
       "------------------------------------------------------------------------------\n",
       "Mileage    -1396.7431    800.507     -1.745      0.081   -2968.091     174.605\n",
       "Cylinder    4437.5107    863.395      5.140      0.000    2742.717    6132.304\n",
       "Doors      -1243.3624    803.432     -1.548      0.122   -2820.452     333.728\n",
       "Cruise      2678.0936    862.412      3.105      0.002     985.229    4370.958\n",
       "Sound       -945.0324    817.238     -1.156      0.248   -2549.223     659.158\n",
       "Leather     1487.4880    818.872      1.817      0.070    -119.910    3094.886\n",
       "==============================================================================\n",
       "Omnibus:                      145.941   Durbin-Watson:                   0.053\n",
       "Prob(Omnibus):                  0.000   Jarque-Bera (JB):              258.863\n",
       "Skew:                           1.098   Prob(JB):                     6.15e-57\n",
       "Kurtosis:                       4.703   Cond. No.                         1.52\n",
       "==============================================================================\n",
       "\n",
       "Warnings:\n",
       "[1] Standard Errors assume that the covariance matrix of the errors is correctly specified.\n",
       "\"\"\""
      ]
     },
     "execution_count": 20,
     "metadata": {},
     "output_type": "execute_result"
    }
   ],
   "source": [
    "# Commands:\n",
    "from sklearn.preprocessing import StandardScaler\n",
    "import statsmodels.api as sm\n",
    "\n",
    "scale = StandardScaler()\n",
    "\n",
    "feat = ['Mileage', 'Cylinder', 'Doors', 'Cruise', 'Sound', 'Leather']\n",
    "features = cars[feat]\n",
    "\n",
    "features[feat] = scale.fit_transform(features[feat])\n",
    "\n",
    "model = sm.OLS(y,features).fit()\n",
    "model.summary()\n",
    "# Explanation:\n",
    "# "
   ]
  },
  {
   "cell_type": "markdown",
   "metadata": {},
   "source": [
    "<h3>Q.7. Are any of the features in the above model highly colinear to the point where they impact the model quality?</h3>"
   ]
  },
  {
   "cell_type": "code",
   "execution_count": null,
   "metadata": {
    "collapsed": true
   },
   "outputs": [],
   "source": [
    "# Command(s):\n",
    "\n",
    "# Comment on the result\n"
   ]
  },
  {
   "cell_type": "markdown",
   "metadata": {},
   "source": [
    "<h3>Q.8. What is the expected price for the Chevy sedan described in variable 'chevy', shown below?</h3>"
   ]
  },
  {
   "cell_type": "code",
   "execution_count": null,
   "metadata": {
    "collapsed": true
   },
   "outputs": [],
   "source": [
    "chevy = c(\"Mileage\"=30000, \"Cylinder\"=4, \"Doors\"=2, \"Cruise\"=1, \"Sound\"=1, \"Leather\"=1)\n",
    "# Commands that estimate the price of 'chevy' using the model with 6 predictors\n"
   ]
  },
  {
   "cell_type": "markdown",
   "metadata": {},
   "source": [
    "<h3>Q.9. What is the expected price for the Chevy mentioned above if you include all features in the prediction? Can you comment on any problems you encounter when doing this prediction?</h3>"
   ]
  },
  {
   "cell_type": "code",
   "execution_count": null,
   "metadata": {
    "collapsed": true
   },
   "outputs": [],
   "source": [
    "# Commands\n",
    "\n",
    "# Comments on problems\n",
    "#"
   ]
  }
 ],
 "metadata": {
  "kernelspec": {
   "display_name": "Python 3",
   "language": "python",
   "name": "python3"
  },
  "language_info": {
   "codemirror_mode": {
    "name": "ipython",
    "version": 3
   },
   "file_extension": ".py",
   "mimetype": "text/x-python",
   "name": "python",
   "nbconvert_exporter": "python",
   "pygments_lexer": "ipython3",
   "version": "3.5.2"
  }
 },
 "nbformat": 4,
 "nbformat_minor": 2
}
